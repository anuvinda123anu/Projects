{
 "cells": [
  {
   "cell_type": "code",
   "execution_count": 1,
   "id": "c61c9771",
   "metadata": {},
   "outputs": [],
   "source": [
    "import numpy as np\n",
    "import pandas as pd\n",
    "import seaborn as sns\n",
    "import matplotlib.pyplot as plt"
   ]
  },
  {
   "cell_type": "code",
   "execution_count": 2,
   "id": "9cc0a34e",
   "metadata": {},
   "outputs": [],
   "source": [
    "wine_data=pd.read_csv(r\"C:\\Users\\user\\Downloads\\Wine_clust.csv\")"
   ]
  },
  {
   "cell_type": "code",
   "execution_count": 3,
   "id": "8241f9a7",
   "metadata": {},
   "outputs": [
    {
     "data": {
      "text/html": [
       "<div>\n",
       "<style scoped>\n",
       "    .dataframe tbody tr th:only-of-type {\n",
       "        vertical-align: middle;\n",
       "    }\n",
       "\n",
       "    .dataframe tbody tr th {\n",
       "        vertical-align: top;\n",
       "    }\n",
       "\n",
       "    .dataframe thead th {\n",
       "        text-align: right;\n",
       "    }\n",
       "</style>\n",
       "<table border=\"1\" class=\"dataframe\">\n",
       "  <thead>\n",
       "    <tr style=\"text-align: right;\">\n",
       "      <th></th>\n",
       "      <th>Alcohol</th>\n",
       "      <th>Malic_Acid</th>\n",
       "      <th>Ash</th>\n",
       "      <th>Ash_Alcanity</th>\n",
       "      <th>Magnesium</th>\n",
       "      <th>Total_Phenols</th>\n",
       "      <th>Flavanoids</th>\n",
       "      <th>Nonflavanoid_Phenols</th>\n",
       "      <th>Proanthocyanins</th>\n",
       "      <th>Color_Intensity</th>\n",
       "      <th>Hue</th>\n",
       "      <th>OD280</th>\n",
       "      <th>Proline</th>\n",
       "    </tr>\n",
       "  </thead>\n",
       "  <tbody>\n",
       "    <tr>\n",
       "      <th>0</th>\n",
       "      <td>14.23</td>\n",
       "      <td>1.71</td>\n",
       "      <td>2.43</td>\n",
       "      <td>15.6</td>\n",
       "      <td>127</td>\n",
       "      <td>2.80</td>\n",
       "      <td>3.06</td>\n",
       "      <td>0.28</td>\n",
       "      <td>2.29</td>\n",
       "      <td>5.64</td>\n",
       "      <td>1.04</td>\n",
       "      <td>3.92</td>\n",
       "      <td>1065</td>\n",
       "    </tr>\n",
       "    <tr>\n",
       "      <th>1</th>\n",
       "      <td>13.20</td>\n",
       "      <td>1.78</td>\n",
       "      <td>2.14</td>\n",
       "      <td>11.2</td>\n",
       "      <td>100</td>\n",
       "      <td>2.65</td>\n",
       "      <td>2.76</td>\n",
       "      <td>0.26</td>\n",
       "      <td>1.28</td>\n",
       "      <td>4.38</td>\n",
       "      <td>1.05</td>\n",
       "      <td>3.40</td>\n",
       "      <td>1050</td>\n",
       "    </tr>\n",
       "    <tr>\n",
       "      <th>2</th>\n",
       "      <td>13.16</td>\n",
       "      <td>2.36</td>\n",
       "      <td>2.67</td>\n",
       "      <td>18.6</td>\n",
       "      <td>101</td>\n",
       "      <td>2.80</td>\n",
       "      <td>3.24</td>\n",
       "      <td>0.30</td>\n",
       "      <td>2.81</td>\n",
       "      <td>5.68</td>\n",
       "      <td>1.03</td>\n",
       "      <td>3.17</td>\n",
       "      <td>1185</td>\n",
       "    </tr>\n",
       "    <tr>\n",
       "      <th>3</th>\n",
       "      <td>14.37</td>\n",
       "      <td>1.95</td>\n",
       "      <td>2.50</td>\n",
       "      <td>16.8</td>\n",
       "      <td>113</td>\n",
       "      <td>3.85</td>\n",
       "      <td>3.49</td>\n",
       "      <td>0.24</td>\n",
       "      <td>2.18</td>\n",
       "      <td>7.80</td>\n",
       "      <td>0.86</td>\n",
       "      <td>3.45</td>\n",
       "      <td>1480</td>\n",
       "    </tr>\n",
       "    <tr>\n",
       "      <th>4</th>\n",
       "      <td>13.24</td>\n",
       "      <td>2.59</td>\n",
       "      <td>2.87</td>\n",
       "      <td>21.0</td>\n",
       "      <td>118</td>\n",
       "      <td>2.80</td>\n",
       "      <td>2.69</td>\n",
       "      <td>0.39</td>\n",
       "      <td>1.82</td>\n",
       "      <td>4.32</td>\n",
       "      <td>1.04</td>\n",
       "      <td>2.93</td>\n",
       "      <td>735</td>\n",
       "    </tr>\n",
       "  </tbody>\n",
       "</table>\n",
       "</div>"
      ],
      "text/plain": [
       "   Alcohol  Malic_Acid   Ash  Ash_Alcanity  Magnesium  Total_Phenols  \\\n",
       "0    14.23        1.71  2.43          15.6        127           2.80   \n",
       "1    13.20        1.78  2.14          11.2        100           2.65   \n",
       "2    13.16        2.36  2.67          18.6        101           2.80   \n",
       "3    14.37        1.95  2.50          16.8        113           3.85   \n",
       "4    13.24        2.59  2.87          21.0        118           2.80   \n",
       "\n",
       "   Flavanoids  Nonflavanoid_Phenols  Proanthocyanins  Color_Intensity   Hue  \\\n",
       "0        3.06                  0.28             2.29             5.64  1.04   \n",
       "1        2.76                  0.26             1.28             4.38  1.05   \n",
       "2        3.24                  0.30             2.81             5.68  1.03   \n",
       "3        3.49                  0.24             2.18             7.80  0.86   \n",
       "4        2.69                  0.39             1.82             4.32  1.04   \n",
       "\n",
       "   OD280  Proline  \n",
       "0   3.92     1065  \n",
       "1   3.40     1050  \n",
       "2   3.17     1185  \n",
       "3   3.45     1480  \n",
       "4   2.93      735  "
      ]
     },
     "execution_count": 3,
     "metadata": {},
     "output_type": "execute_result"
    }
   ],
   "source": [
    "wine_data.head()"
   ]
  },
  {
   "cell_type": "code",
   "execution_count": 4,
   "id": "47019d5b",
   "metadata": {},
   "outputs": [
    {
     "data": {
      "text/plain": [
       "Alcohol                 0\n",
       "Malic_Acid              0\n",
       "Ash                     0\n",
       "Ash_Alcanity            0\n",
       "Magnesium               0\n",
       "Total_Phenols           0\n",
       "Flavanoids              0\n",
       "Nonflavanoid_Phenols    0\n",
       "Proanthocyanins         0\n",
       "Color_Intensity         0\n",
       "Hue                     0\n",
       "OD280                   0\n",
       "Proline                 0\n",
       "dtype: int64"
      ]
     },
     "execution_count": 4,
     "metadata": {},
     "output_type": "execute_result"
    }
   ],
   "source": [
    "wine_data.isna().sum()"
   ]
  },
  {
   "cell_type": "code",
   "execution_count": 5,
   "id": "a3c2cc7c",
   "metadata": {},
   "outputs": [
    {
     "data": {
      "text/plain": [
       "Index(['Alcohol', 'Malic_Acid', 'Ash', 'Ash_Alcanity', 'Magnesium',\n",
       "       'Total_Phenols', 'Flavanoids', 'Nonflavanoid_Phenols',\n",
       "       'Proanthocyanins', 'Color_Intensity', 'Hue', 'OD280', 'Proline'],\n",
       "      dtype='object')"
      ]
     },
     "execution_count": 5,
     "metadata": {},
     "output_type": "execute_result"
    }
   ],
   "source": [
    "wine_data.columns"
   ]
  },
  {
   "cell_type": "code",
   "execution_count": 6,
   "id": "460392fc",
   "metadata": {},
   "outputs": [
    {
     "data": {
      "text/plain": [
       "(178, 13)"
      ]
     },
     "execution_count": 6,
     "metadata": {},
     "output_type": "execute_result"
    }
   ],
   "source": [
    "wine_data.shape"
   ]
  },
  {
   "cell_type": "markdown",
   "id": "bbb236b1",
   "metadata": {},
   "source": [
    "# Scailing The Data"
   ]
  },
  {
   "cell_type": "code",
   "execution_count": 7,
   "id": "e52fc2b4",
   "metadata": {},
   "outputs": [
    {
     "data": {
      "text/html": [
       "<div>\n",
       "<style scoped>\n",
       "    .dataframe tbody tr th:only-of-type {\n",
       "        vertical-align: middle;\n",
       "    }\n",
       "\n",
       "    .dataframe tbody tr th {\n",
       "        vertical-align: top;\n",
       "    }\n",
       "\n",
       "    .dataframe thead th {\n",
       "        text-align: right;\n",
       "    }\n",
       "</style>\n",
       "<table border=\"1\" class=\"dataframe\">\n",
       "  <thead>\n",
       "    <tr style=\"text-align: right;\">\n",
       "      <th></th>\n",
       "      <th>Alcohol</th>\n",
       "      <th>Malic_Acid</th>\n",
       "      <th>Ash</th>\n",
       "      <th>Ash_Alcanity</th>\n",
       "      <th>Magnesium</th>\n",
       "      <th>Total_Phenols</th>\n",
       "      <th>Flavanoids</th>\n",
       "      <th>Nonflavanoid_Phenols</th>\n",
       "      <th>Proanthocyanins</th>\n",
       "      <th>Color_Intensity</th>\n",
       "      <th>Hue</th>\n",
       "      <th>OD280</th>\n",
       "      <th>Proline</th>\n",
       "    </tr>\n",
       "  </thead>\n",
       "  <tbody>\n",
       "    <tr>\n",
       "      <th>0</th>\n",
       "      <td>1.518613</td>\n",
       "      <td>-0.562250</td>\n",
       "      <td>0.232053</td>\n",
       "      <td>-1.169593</td>\n",
       "      <td>1.913905</td>\n",
       "      <td>0.808997</td>\n",
       "      <td>1.034819</td>\n",
       "      <td>-0.659563</td>\n",
       "      <td>1.224884</td>\n",
       "      <td>0.251717</td>\n",
       "      <td>0.362177</td>\n",
       "      <td>1.847920</td>\n",
       "      <td>1.013009</td>\n",
       "    </tr>\n",
       "    <tr>\n",
       "      <th>1</th>\n",
       "      <td>0.246290</td>\n",
       "      <td>-0.499413</td>\n",
       "      <td>-0.827996</td>\n",
       "      <td>-2.490847</td>\n",
       "      <td>0.018145</td>\n",
       "      <td>0.568648</td>\n",
       "      <td>0.733629</td>\n",
       "      <td>-0.820719</td>\n",
       "      <td>-0.544721</td>\n",
       "      <td>-0.293321</td>\n",
       "      <td>0.406051</td>\n",
       "      <td>1.113449</td>\n",
       "      <td>0.965242</td>\n",
       "    </tr>\n",
       "  </tbody>\n",
       "</table>\n",
       "</div>"
      ],
      "text/plain": [
       "    Alcohol  Malic_Acid       Ash  Ash_Alcanity  Magnesium  Total_Phenols  \\\n",
       "0  1.518613   -0.562250  0.232053     -1.169593   1.913905       0.808997   \n",
       "1  0.246290   -0.499413 -0.827996     -2.490847   0.018145       0.568648   \n",
       "\n",
       "   Flavanoids  Nonflavanoid_Phenols  Proanthocyanins  Color_Intensity  \\\n",
       "0    1.034819             -0.659563         1.224884         0.251717   \n",
       "1    0.733629             -0.820719        -0.544721        -0.293321   \n",
       "\n",
       "        Hue     OD280   Proline  \n",
       "0  0.362177  1.847920  1.013009  \n",
       "1  0.406051  1.113449  0.965242  "
      ]
     },
     "execution_count": 7,
     "metadata": {},
     "output_type": "execute_result"
    }
   ],
   "source": [
    "from sklearn.preprocessing import StandardScaler\n",
    "scaler =StandardScaler()\n",
    " \n",
    "features =scaler.fit(wine_data)\n",
    "features =features.transform(wine_data)\n",
    " \n",
    "# Convert to pandas Dataframe\n",
    "scaled_wine_data =pd.DataFrame(features,columns=wine_data.columns)\n",
    "# Print the scaled data\n",
    "scaled_wine_data.head(2)"
   ]
  },
  {
   "cell_type": "markdown",
   "id": "6436022f",
   "metadata": {},
   "source": [
    "# Elbow Method"
   ]
  },
  {
   "cell_type": "code",
   "execution_count": 8,
   "id": "e68687e9",
   "metadata": {},
   "outputs": [
    {
     "name": "stderr",
     "output_type": "stream",
     "text": [
      "F:\\anaconda3\\lib\\site-packages\\sklearn\\cluster\\_kmeans.py:1036: UserWarning: KMeans is known to have a memory leak on Windows with MKL, when there are less chunks than available threads. You can avoid it by setting the environment variable OMP_NUM_THREADS=1.\n",
      "  warnings.warn(\n"
     ]
    },
    {
     "data": {
      "image/png": "[encoded data removed]",
      "text/plain": [
       "<Figure size 640x480 with 1 Axes>"
      ]
     },
     "metadata": {},
     "output_type": "display_data"
    }
   ],
   "source": [
    "from sklearn.cluster import KMeans\n",
    "wcss = []\n",
    "for i in range(1, 13):\n",
    "    kmeans = KMeans(n_clusters = i, init = 'k-means++', random_state = 42)\n",
    "    kmeans.fit(wine_data)\n",
    "    wcss.append(kmeans.inertia_)\n",
    "     \n",
    "plt.plot(range(1,13),wcss)\n",
    "plt.title('The Elbow Method')\n",
    "plt.xlabel('No. of clusters')\n",
    "plt.ylabel('WCSS')\n",
    "plt.show()"
   ]
  },
  {
   "cell_type": "markdown",
   "id": "dd255249",
   "metadata": {},
   "source": [
    "As we can see from the above graph that there is turning like an elbow \n",
    "at k=3. So, we can say that the right number of cluster for the given\n",
    "datasets is 4."
   ]
  },
  {
   "cell_type": "markdown",
   "id": "aadec88f",
   "metadata": {},
   "source": [
    "# KMean Clustering"
   ]
  },
  {
   "cell_type": "code",
   "execution_count": 9,
   "id": "6f7e4e95",
   "metadata": {},
   "outputs": [],
   "source": [
    "kmeans=KMeans(n_clusters=4,init='k-means++',random_state=42)\n",
    "y_kmeans=kmeans.fit_predict(wine_data)"
   ]
  },
  {
   "cell_type": "code",
   "execution_count": 10,
   "id": "883d8fdb",
   "metadata": {},
   "outputs": [
    {
     "data": {
      "text/plain": [
       "array([1, 1, 3, 3, 2, 3, 3, 3, 1, 1, 3, 3, 3, 1, 3, 3, 3, 1, 3, 1, 2, 2,\n",
       "       1, 1, 1, 2, 3, 3, 1, 1, 3, 3, 1, 3, 1, 1, 1, 1, 1, 2, 2, 1, 1, 2,\n",
       "       1, 1, 1, 1, 1, 3, 1, 3, 3, 3, 1, 1, 1, 3, 3, 0, 2, 0, 2, 0, 0, 2,\n",
       "       0, 0, 2, 2, 1, 0, 0, 1, 1, 0, 0, 0, 2, 0, 0, 2, 2, 0, 0, 0, 0, 2,\n",
       "       2, 2, 0, 0, 0, 0, 0, 1, 2, 0, 2, 0, 2, 2, 0, 0, 2, 0, 0, 0, 0, 2,\n",
       "       2, 0, 2, 0, 0, 0, 0, 0, 0, 2, 2, 0, 0, 0, 0, 0, 0, 0, 0, 2, 2, 0,\n",
       "       2, 2, 2, 2, 2, 0, 2, 2, 2, 2, 0, 0, 1, 2, 0, 2, 2, 0, 0, 0, 0, 2,\n",
       "       2, 2, 0, 1, 2, 2, 0, 2, 2, 2, 2, 0, 2, 2, 2, 2, 0, 0, 2, 2, 2, 1,\n",
       "       1, 2])"
      ]
     },
     "execution_count": 10,
     "metadata": {},
     "output_type": "execute_result"
    }
   ],
   "source": [
    "y_kmeans"
   ]
  },
  {
   "cell_type": "code",
   "execution_count": 11,
   "id": "997f8de4",
   "metadata": {},
   "outputs": [],
   "source": [
    "from sklearn.metrics import silhouette_score"
   ]
  },
  {
   "cell_type": "code",
   "execution_count": 12,
   "id": "b3624309",
   "metadata": {},
   "outputs": [],
   "source": [
    "sil_ahc= silhouette_score(wine_data,y_kmeans)"
   ]
  },
  {
   "cell_type": "code",
   "execution_count": 13,
   "id": "0c1c1d98",
   "metadata": {},
   "outputs": [
    {
     "data": {
      "text/plain": [
       "0.5572288268257268"
      ]
     },
     "execution_count": 13,
     "metadata": {},
     "output_type": "execute_result"
    }
   ],
   "source": [
    "sil_ahc"
   ]
  },
  {
   "cell_type": "markdown",
   "id": "dd70aa32",
   "metadata": {},
   "source": [
    "# Principal Component Analysis"
   ]
  },
  {
   "cell_type": "code",
   "execution_count": 14,
   "id": "41e5abc5",
   "metadata": {},
   "outputs": [],
   "source": [
    "from sklearn.datasets import load_wine"
   ]
  },
  {
   "cell_type": "code",
   "execution_count": 15,
   "id": "c110035a",
   "metadata": {},
   "outputs": [],
   "source": [
    "wine_data=load_wine()"
   ]
  },
  {
   "cell_type": "code",
   "execution_count": 16,
   "id": "91d8aa85",
   "metadata": {},
   "outputs": [
    {
     "data": {
      "text/plain": [
       "['DESCR', 'data', 'feature_names', 'frame', 'target', 'target_names']"
      ]
     },
     "execution_count": 16,
     "metadata": {},
     "output_type": "execute_result"
    }
   ],
   "source": [
    "dir(wine_data)"
   ]
  },
  {
   "cell_type": "code",
   "execution_count": 17,
   "id": "3977dcee",
   "metadata": {},
   "outputs": [
    {
     "name": "stdout",
     "output_type": "stream",
     "text": [
      ".. _wine_dataset:\n",
      "\n",
      "Wine recognition dataset\n",
      "------------------------\n",
      "\n",
      "**Data Set Characteristics:**\n",
      "\n",
      "    :Number of Instances: 178 (50 in each of three classes)\n",
      "    :Number of Attributes: 13 numeric, predictive attributes and the class\n",
      "    :Attribute Information:\n",
      " \t\t- Alcohol\n",
      " \t\t- Malic acid\n",
      " \t\t- Ash\n",
      "\t\t- Alcalinity of ash  \n",
      " \t\t- Magnesium\n",
      "\t\t- Total phenols\n",
      " \t\t- Flavanoids\n",
      " \t\t- Nonflavanoid phenols\n",
      " \t\t- Proanthocyanins\n",
      "\t\t- Color intensity\n",
      " \t\t- Hue\n",
      " \t\t- OD280/OD315 of diluted wines\n",
      " \t\t- Proline\n",
      "\n",
      "    - class:\n",
      "            - class_0\n",
      "            - class_1\n",
      "            - class_2\n",
      "\t\t\n",
      "    :Summary Statistics:\n",
      "    \n",
      "    ============================= ==== ===== ======= =====\n",
      "                                   Min   Max   Mean     SD\n",
      "    ============================= ==== ===== ======= =====\n",
      "    Alcohol:                      11.0  14.8    13.0   0.8\n",
      "    Malic Acid:                   0.74  5.80    2.34  1.12\n",
      "    Ash:                          1.36  3.23    2.36  0.27\n",
      "    Alcalinity of Ash:            10.6  30.0    19.5   3.3\n",
      "    Magnesium:                    70.0 162.0    99.7  14.3\n",
      "    Total Phenols:                0.98  3.88    2.29  0.63\n",
      "    Flavanoids:                   0.34  5.08    2.03  1.00\n",
      "    Nonflavanoid Phenols:         0.13  0.66    0.36  0.12\n",
      "    Proanthocyanins:              0.41  3.58    1.59  0.57\n",
      "    Colour Intensity:              1.3  13.0     5.1   2.3\n",
      "    Hue:                          0.48  1.71    0.96  0.23\n",
      "    OD280/OD315 of diluted wines: 1.27  4.00    2.61  0.71\n",
      "    Proline:                       278  1680     746   315\n",
      "    ============================= ==== ===== ======= =====\n",
      "\n",
      "    :Missing Attribute Values: None\n",
      "    :Class Distribution: class_0 (59), class_1 (71), class_2 (48)\n",
      "    :Creator: R.A. Fisher\n",
      "    :Donor: Michael Marshall (MARSHALL%PLU@io.arc.nasa.gov)\n",
      "    :Date: July, 1988\n",
      "\n",
      "This is a copy of UCI ML Wine recognition datasets.\n",
      "https://archive.ics.uci.edu/ml/machine-learning-databases/wine/wine.data\n",
      "\n",
      "The data is the results of a chemical analysis of wines grown in the same\n",
      "region in Italy by three different cultivators. There are thirteen different\n",
      "measurements taken for different constituents found in the three types of\n",
      "wine.\n",
      "\n",
      "Original Owners: \n",
      "\n",
      "Forina, M. et al, PARVUS - \n",
      "An Extendible Package for Data Exploration, Classification and Correlation. \n",
      "Institute of Pharmaceutical and Food Analysis and Technologies,\n",
      "Via Brigata Salerno, 16147 Genoa, Italy.\n",
      "\n",
      "Citation:\n",
      "\n",
      "Lichman, M. (2013). UCI Machine Learning Repository\n",
      "[https://archive.ics.uci.edu/ml]. Irvine, CA: University of California,\n",
      "School of Information and Computer Science. \n",
      "\n",
      ".. topic:: References\n",
      "\n",
      "  (1) S. Aeberhard, D. Coomans and O. de Vel, \n",
      "  Comparison of Classifiers in High Dimensional Settings, \n",
      "  Tech. Rep. no. 92-02, (1992), Dept. of Computer Science and Dept. of  \n",
      "  Mathematics and Statistics, James Cook University of North Queensland. \n",
      "  (Also submitted to Technometrics). \n",
      "\n",
      "  The data was used with many others for comparing various \n",
      "  classifiers. The classes are separable, though only RDA \n",
      "  has achieved 100% correct classification. \n",
      "  (RDA : 100%, QDA 99.4%, LDA 98.9%, 1NN 96.1% (z-transformed data)) \n",
      "  (All results using the leave-one-out technique) \n",
      "\n",
      "  (2) S. Aeberhard, D. Coomans and O. de Vel, \n",
      "  \"THE CLASSIFICATION PERFORMANCE OF RDA\" \n",
      "  Tech. Rep. no. 92-01, (1992), Dept. of Computer Science and Dept. of \n",
      "  Mathematics and Statistics, James Cook University of North Queensland. \n",
      "  (Also submitted to Journal of Chemometrics).\n",
      "\n"
     ]
    }
   ],
   "source": [
    "print(wine_data.DESCR)"
   ]
  },
  {
   "cell_type": "code",
   "execution_count": 18,
   "id": "0dc62c1d",
   "metadata": {},
   "outputs": [],
   "source": [
    "inputs=wine_data.data"
   ]
  },
  {
   "cell_type": "code",
   "execution_count": 19,
   "id": "5f5f6a46",
   "metadata": {},
   "outputs": [],
   "source": [
    "output=wine_data.target"
   ]
  },
  {
   "cell_type": "code",
   "execution_count": 20,
   "id": "7536d044",
   "metadata": {},
   "outputs": [
    {
     "data": {
      "text/plain": [
       "(178, 13)"
      ]
     },
     "execution_count": 20,
     "metadata": {},
     "output_type": "execute_result"
    }
   ],
   "source": [
    "inputs.shape"
   ]
  },
  {
   "cell_type": "code",
   "execution_count": 21,
   "id": "57b6d0aa",
   "metadata": {},
   "outputs": [
    {
     "data": {
      "text/plain": [
       "(178,)"
      ]
     },
     "execution_count": 21,
     "metadata": {},
     "output_type": "execute_result"
    }
   ],
   "source": [
    "output.shape"
   ]
  },
  {
   "cell_type": "code",
   "execution_count": 22,
   "id": "3c6f1a52",
   "metadata": {},
   "outputs": [
    {
     "data": {
      "text/plain": [
       "['alcohol',\n",
       " 'malic_acid',\n",
       " 'ash',\n",
       " 'alcalinity_of_ash',\n",
       " 'magnesium',\n",
       " 'total_phenols',\n",
       " 'flavanoids',\n",
       " 'nonflavanoid_phenols',\n",
       " 'proanthocyanins',\n",
       " 'color_intensity',\n",
       " 'hue',\n",
       " 'od280/od315_of_diluted_wines',\n",
       " 'proline']"
      ]
     },
     "execution_count": 22,
     "metadata": {},
     "output_type": "execute_result"
    }
   ],
   "source": [
    "wine_data.feature_names"
   ]
  },
  {
   "cell_type": "code",
   "execution_count": 23,
   "id": "89fd34e3",
   "metadata": {},
   "outputs": [],
   "source": [
    "import pandas as pd"
   ]
  },
  {
   "cell_type": "code",
   "execution_count": 24,
   "id": "fa698a36",
   "metadata": {},
   "outputs": [],
   "source": [
    "df=pd.DataFrame(inputs,columns=wine_data.feature_names)"
   ]
  },
  {
   "cell_type": "code",
   "execution_count": 25,
   "id": "c4cbc425",
   "metadata": {},
   "outputs": [],
   "source": [
    "df=pd.concat([df,pd.DataFrame(output)],axis=1)"
   ]
  },
  {
   "cell_type": "code",
   "execution_count": 26,
   "id": "dc877985",
   "metadata": {},
   "outputs": [
    {
     "data": {
      "text/html": [
       "<div>\n",
       "<style scoped>\n",
       "    .dataframe tbody tr th:only-of-type {\n",
       "        vertical-align: middle;\n",
       "    }\n",
       "\n",
       "    .dataframe tbody tr th {\n",
       "        vertical-align: top;\n",
       "    }\n",
       "\n",
       "    .dataframe thead th {\n",
       "        text-align: right;\n",
       "    }\n",
       "</style>\n",
       "<table border=\"1\" class=\"dataframe\">\n",
       "  <thead>\n",
       "    <tr style=\"text-align: right;\">\n",
       "      <th></th>\n",
       "      <th>alcohol</th>\n",
       "      <th>malic_acid</th>\n",
       "      <th>ash</th>\n",
       "      <th>alcalinity_of_ash</th>\n",
       "      <th>magnesium</th>\n",
       "      <th>total_phenols</th>\n",
       "      <th>flavanoids</th>\n",
       "      <th>nonflavanoid_phenols</th>\n",
       "      <th>proanthocyanins</th>\n",
       "      <th>color_intensity</th>\n",
       "      <th>hue</th>\n",
       "      <th>od280/od315_of_diluted_wines</th>\n",
       "      <th>proline</th>\n",
       "      <th>0</th>\n",
       "    </tr>\n",
       "  </thead>\n",
       "  <tbody>\n",
       "    <tr>\n",
       "      <th>0</th>\n",
       "      <td>14.23</td>\n",
       "      <td>1.71</td>\n",
       "      <td>2.43</td>\n",
       "      <td>15.6</td>\n",
       "      <td>127.0</td>\n",
       "      <td>2.80</td>\n",
       "      <td>3.06</td>\n",
       "      <td>0.28</td>\n",
       "      <td>2.29</td>\n",
       "      <td>5.64</td>\n",
       "      <td>1.04</td>\n",
       "      <td>3.92</td>\n",
       "      <td>1065.0</td>\n",
       "      <td>0</td>\n",
       "    </tr>\n",
       "    <tr>\n",
       "      <th>1</th>\n",
       "      <td>13.20</td>\n",
       "      <td>1.78</td>\n",
       "      <td>2.14</td>\n",
       "      <td>11.2</td>\n",
       "      <td>100.0</td>\n",
       "      <td>2.65</td>\n",
       "      <td>2.76</td>\n",
       "      <td>0.26</td>\n",
       "      <td>1.28</td>\n",
       "      <td>4.38</td>\n",
       "      <td>1.05</td>\n",
       "      <td>3.40</td>\n",
       "      <td>1050.0</td>\n",
       "      <td>0</td>\n",
       "    </tr>\n",
       "    <tr>\n",
       "      <th>2</th>\n",
       "      <td>13.16</td>\n",
       "      <td>2.36</td>\n",
       "      <td>2.67</td>\n",
       "      <td>18.6</td>\n",
       "      <td>101.0</td>\n",
       "      <td>2.80</td>\n",
       "      <td>3.24</td>\n",
       "      <td>0.30</td>\n",
       "      <td>2.81</td>\n",
       "      <td>5.68</td>\n",
       "      <td>1.03</td>\n",
       "      <td>3.17</td>\n",
       "      <td>1185.0</td>\n",
       "      <td>0</td>\n",
       "    </tr>\n",
       "    <tr>\n",
       "      <th>3</th>\n",
       "      <td>14.37</td>\n",
       "      <td>1.95</td>\n",
       "      <td>2.50</td>\n",
       "      <td>16.8</td>\n",
       "      <td>113.0</td>\n",
       "      <td>3.85</td>\n",
       "      <td>3.49</td>\n",
       "      <td>0.24</td>\n",
       "      <td>2.18</td>\n",
       "      <td>7.80</td>\n",
       "      <td>0.86</td>\n",
       "      <td>3.45</td>\n",
       "      <td>1480.0</td>\n",
       "      <td>0</td>\n",
       "    </tr>\n",
       "    <tr>\n",
       "      <th>4</th>\n",
       "      <td>13.24</td>\n",
       "      <td>2.59</td>\n",
       "      <td>2.87</td>\n",
       "      <td>21.0</td>\n",
       "      <td>118.0</td>\n",
       "      <td>2.80</td>\n",
       "      <td>2.69</td>\n",
       "      <td>0.39</td>\n",
       "      <td>1.82</td>\n",
       "      <td>4.32</td>\n",
       "      <td>1.04</td>\n",
       "      <td>2.93</td>\n",
       "      <td>735.0</td>\n",
       "      <td>0</td>\n",
       "    </tr>\n",
       "    <tr>\n",
       "      <th>...</th>\n",
       "      <td>...</td>\n",
       "      <td>...</td>\n",
       "      <td>...</td>\n",
       "      <td>...</td>\n",
       "      <td>...</td>\n",
       "      <td>...</td>\n",
       "      <td>...</td>\n",
       "      <td>...</td>\n",
       "      <td>...</td>\n",
       "      <td>...</td>\n",
       "      <td>...</td>\n",
       "      <td>...</td>\n",
       "      <td>...</td>\n",
       "      <td>...</td>\n",
       "    </tr>\n",
       "    <tr>\n",
       "      <th>173</th>\n",
       "      <td>13.71</td>\n",
       "      <td>5.65</td>\n",
       "      <td>2.45</td>\n",
       "      <td>20.5</td>\n",
       "      <td>95.0</td>\n",
       "      <td>1.68</td>\n",
       "      <td>0.61</td>\n",
       "      <td>0.52</td>\n",
       "      <td>1.06</td>\n",
       "      <td>7.70</td>\n",
       "      <td>0.64</td>\n",
       "      <td>1.74</td>\n",
       "      <td>740.0</td>\n",
       "      <td>2</td>\n",
       "    </tr>\n",
       "    <tr>\n",
       "      <th>174</th>\n",
       "      <td>13.40</td>\n",
       "      <td>3.91</td>\n",
       "      <td>2.48</td>\n",
       "      <td>23.0</td>\n",
       "      <td>102.0</td>\n",
       "      <td>1.80</td>\n",
       "      <td>0.75</td>\n",
       "      <td>0.43</td>\n",
       "      <td>1.41</td>\n",
       "      <td>7.30</td>\n",
       "      <td>0.70</td>\n",
       "      <td>1.56</td>\n",
       "      <td>750.0</td>\n",
       "      <td>2</td>\n",
       "    </tr>\n",
       "    <tr>\n",
       "      <th>175</th>\n",
       "      <td>13.27</td>\n",
       "      <td>4.28</td>\n",
       "      <td>2.26</td>\n",
       "      <td>20.0</td>\n",
       "      <td>120.0</td>\n",
       "      <td>1.59</td>\n",
       "      <td>0.69</td>\n",
       "      <td>0.43</td>\n",
       "      <td>1.35</td>\n",
       "      <td>10.20</td>\n",
       "      <td>0.59</td>\n",
       "      <td>1.56</td>\n",
       "      <td>835.0</td>\n",
       "      <td>2</td>\n",
       "    </tr>\n",
       "    <tr>\n",
       "      <th>176</th>\n",
       "      <td>13.17</td>\n",
       "      <td>2.59</td>\n",
       "      <td>2.37</td>\n",
       "      <td>20.0</td>\n",
       "      <td>120.0</td>\n",
       "      <td>1.65</td>\n",
       "      <td>0.68</td>\n",
       "      <td>0.53</td>\n",
       "      <td>1.46</td>\n",
       "      <td>9.30</td>\n",
       "      <td>0.60</td>\n",
       "      <td>1.62</td>\n",
       "      <td>840.0</td>\n",
       "      <td>2</td>\n",
       "    </tr>\n",
       "    <tr>\n",
       "      <th>177</th>\n",
       "      <td>14.13</td>\n",
       "      <td>4.10</td>\n",
       "      <td>2.74</td>\n",
       "      <td>24.5</td>\n",
       "      <td>96.0</td>\n",
       "      <td>2.05</td>\n",
       "      <td>0.76</td>\n",
       "      <td>0.56</td>\n",
       "      <td>1.35</td>\n",
       "      <td>9.20</td>\n",
       "      <td>0.61</td>\n",
       "      <td>1.60</td>\n",
       "      <td>560.0</td>\n",
       "      <td>2</td>\n",
       "    </tr>\n",
       "  </tbody>\n",
       "</table>\n",
       "<p>178 rows × 14 columns</p>\n",
       "</div>"
      ],
      "text/plain": [
       "     alcohol  malic_acid   ash  alcalinity_of_ash  magnesium  total_phenols  \\\n",
       "0      14.23        1.71  2.43               15.6      127.0           2.80   \n",
       "1      13.20        1.78  2.14               11.2      100.0           2.65   \n",
       "2      13.16        2.36  2.67               18.6      101.0           2.80   \n",
       "3      14.37        1.95  2.50               16.8      113.0           3.85   \n",
       "4      13.24        2.59  2.87               21.0      118.0           2.80   \n",
       "..       ...         ...   ...                ...        ...            ...   \n",
       "173    13.71        5.65  2.45               20.5       95.0           1.68   \n",
       "174    13.40        3.91  2.48               23.0      102.0           1.80   \n",
       "175    13.27        4.28  2.26               20.0      120.0           1.59   \n",
       "176    13.17        2.59  2.37               20.0      120.0           1.65   \n",
       "177    14.13        4.10  2.74               24.5       96.0           2.05   \n",
       "\n",
       "     flavanoids  nonflavanoid_phenols  proanthocyanins  color_intensity   hue  \\\n",
       "0          3.06                  0.28             2.29             5.64  1.04   \n",
       "1          2.76                  0.26             1.28             4.38  1.05   \n",
       "2          3.24                  0.30             2.81             5.68  1.03   \n",
       "3          3.49                  0.24             2.18             7.80  0.86   \n",
       "4          2.69                  0.39             1.82             4.32  1.04   \n",
       "..          ...                   ...              ...              ...   ...   \n",
       "173        0.61                  0.52             1.06             7.70  0.64   \n",
       "174        0.75                  0.43             1.41             7.30  0.70   \n",
       "175        0.69                  0.43             1.35            10.20  0.59   \n",
       "176        0.68                  0.53             1.46             9.30  0.60   \n",
       "177        0.76                  0.56             1.35             9.20  0.61   \n",
       "\n",
       "     od280/od315_of_diluted_wines  proline  0  \n",
       "0                            3.92   1065.0  0  \n",
       "1                            3.40   1050.0  0  \n",
       "2                            3.17   1185.0  0  \n",
       "3                            3.45   1480.0  0  \n",
       "4                            2.93    735.0  0  \n",
       "..                            ...      ... ..  \n",
       "173                          1.74    740.0  2  \n",
       "174                          1.56    750.0  2  \n",
       "175                          1.56    835.0  2  \n",
       "176                          1.62    840.0  2  \n",
       "177                          1.60    560.0  2  \n",
       "\n",
       "[178 rows x 14 columns]"
      ]
     },
     "execution_count": 26,
     "metadata": {},
     "output_type": "execute_result"
    }
   ],
   "source": [
    "df"
   ]
  },
  {
   "cell_type": "code",
   "execution_count": 27,
   "id": "1f6b03b3",
   "metadata": {},
   "outputs": [
    {
     "name": "stderr",
     "output_type": "stream",
     "text": [
      "F:\\anaconda3\\lib\\site-packages\\sklearn\\utils\\validation.py:1688: FutureWarning: Feature names only support names that are all strings. Got feature names with dtypes: ['int', 'str']. An error will be raised in 1.2.\n",
      "  warnings.warn(\n",
      "F:\\anaconda3\\lib\\site-packages\\sklearn\\utils\\validation.py:1688: FutureWarning: Feature names only support names that are all strings. Got feature names with dtypes: ['int', 'str']. An error will be raised in 1.2.\n",
      "  warnings.warn(\n"
     ]
    }
   ],
   "source": [
    "from sklearn.preprocessing import StandardScaler\n",
    "scaler=StandardScaler()\n",
    "scaled_data=scaler.fit_transform(df)"
   ]
  },
  {
   "cell_type": "code",
   "execution_count": 28,
   "id": "f8a1b6f9",
   "metadata": {},
   "outputs": [
    {
     "data": {
      "text/plain": [
       "array([[ 1.51861254, -0.5622498 ,  0.23205254, ...,  1.84791957,\n",
       "         1.01300893, -1.21394365],\n",
       "       [ 0.24628963, -0.49941338, -0.82799632, ...,  1.1134493 ,\n",
       "         0.96524152, -1.21394365],\n",
       "       [ 0.19687903,  0.02123125,  1.10933436, ...,  0.78858745,\n",
       "         1.39514818, -1.21394365],\n",
       "       ...,\n",
       "       [ 0.33275817,  1.74474449, -0.38935541, ..., -1.48544548,\n",
       "         0.28057537,  1.37386437],\n",
       "       [ 0.20923168,  0.22769377,  0.01273209, ..., -1.40069891,\n",
       "         0.29649784,  1.37386437],\n",
       "       [ 1.39508604,  1.58316512,  1.36520822, ..., -1.42894777,\n",
       "        -0.59516041,  1.37386437]])"
      ]
     },
     "execution_count": 28,
     "metadata": {},
     "output_type": "execute_result"
    }
   ],
   "source": [
    "scaled_data"
   ]
  },
  {
   "cell_type": "code",
   "execution_count": 29,
   "id": "96c016fb",
   "metadata": {},
   "outputs": [],
   "source": [
    "scaled_data=pd.DataFrame(scaled_data,columns=df.columns)"
   ]
  },
  {
   "cell_type": "code",
   "execution_count": 30,
   "id": "434288a9",
   "metadata": {},
   "outputs": [],
   "source": [
    "from sklearn.decomposition import PCA"
   ]
  },
  {
   "cell_type": "code",
   "execution_count": 31,
   "id": "f4c3245a",
   "metadata": {},
   "outputs": [
    {
     "name": "stderr",
     "output_type": "stream",
     "text": [
      "F:\\anaconda3\\lib\\site-packages\\sklearn\\utils\\validation.py:1688: FutureWarning: Feature names only support names that are all strings. Got feature names with dtypes: ['int', 'str']. An error will be raised in 1.2.\n",
      "  warnings.warn(\n"
     ]
    },
    {
     "data": {
      "text/plain": [
       "PCA(n_components=0.97)"
      ]
     },
     "execution_count": 31,
     "metadata": {},
     "output_type": "execute_result"
    }
   ],
   "source": [
    "pca=PCA(n_components=0.97)\n",
    "pca.fit(scaled_data)"
   ]
  },
  {
   "cell_type": "code",
   "execution_count": 32,
   "id": "4bd5bbb3",
   "metadata": {},
   "outputs": [
    {
     "name": "stderr",
     "output_type": "stream",
     "text": [
      "F:\\anaconda3\\lib\\site-packages\\sklearn\\utils\\validation.py:1688: FutureWarning: Feature names only support names that are all strings. Got feature names with dtypes: ['int', 'str']. An error will be raised in 1.2.\n",
      "  warnings.warn(\n"
     ]
    }
   ],
   "source": [
    "x_pca=pca.transform(scaled_data)"
   ]
  },
  {
   "cell_type": "code",
   "execution_count": 33,
   "id": "6935fc50",
   "metadata": {},
   "outputs": [
    {
     "data": {
      "text/plain": [
       "(178, 11)"
      ]
     },
     "execution_count": 33,
     "metadata": {},
     "output_type": "execute_result"
    }
   ],
   "source": [
    "x_pca.shape"
   ]
  },
  {
   "cell_type": "code",
   "execution_count": 34,
   "id": "eddec604",
   "metadata": {},
   "outputs": [
    {
     "name": "stderr",
     "output_type": "stream",
     "text": [
      "F:\\anaconda3\\lib\\site-packages\\sklearn\\utils\\validation.py:1688: FutureWarning: Feature names only support names that are all strings. Got feature names with dtypes: ['int', 'str']. An error will be raised in 1.2.\n",
      "  warnings.warn(\n",
      "F:\\anaconda3\\lib\\site-packages\\sklearn\\utils\\validation.py:1688: FutureWarning: Feature names only support names that are all strings. Got feature names with dtypes: ['int', 'str']. An error will be raised in 1.2.\n",
      "  warnings.warn(\n"
     ]
    }
   ],
   "source": [
    "pca1=PCA(n_components=10)\n",
    "pca1.fit(scaled_data)\n",
    "x_pca1=pca1.transform(scaled_data)"
   ]
  },
  {
   "cell_type": "code",
   "execution_count": 35,
   "id": "effe1bdb",
   "metadata": {},
   "outputs": [
    {
     "data": {
      "text/plain": [
       "(178, 10)"
      ]
     },
     "execution_count": 35,
     "metadata": {},
     "output_type": "execute_result"
    }
   ],
   "source": [
    "x_pca1.shape"
   ]
  },
  {
   "cell_type": "code",
   "execution_count": 36,
   "id": "7d58af0d",
   "metadata": {},
   "outputs": [
    {
     "data": {
      "text/plain": [
       "array([0.39542486, 0.57378745, 0.67707846, 0.74335831, 0.80603706,\n",
       "       0.85409266, 0.89364973, 0.91865217, 0.93969088, 0.95842703])"
      ]
     },
     "execution_count": 36,
     "metadata": {},
     "output_type": "execute_result"
    }
   ],
   "source": [
    "np.cumsum(pca1.explained_variance_ratio_)"
   ]
  },
  {
   "cell_type": "code",
   "execution_count": 37,
   "id": "bad2516e",
   "metadata": {},
   "outputs": [
    {
     "data": {
      "text/plain": [
       "array([[-0.13632501,  0.22267638, -0.00225793,  0.22429849, -0.12463016,\n",
       "        -0.35926404, -0.39071171,  0.2670012 , -0.2790625 ,  0.08931829,\n",
       "        -0.27682265, -0.35052618, -0.26951525,  0.39366953],\n",
       "       [-0.48416087, -0.22359095, -0.31585588,  0.01161574, -0.30055143,\n",
       "        -0.06711983,  0.00131345, -0.0269887 , -0.04122256, -0.52978274,\n",
       "         0.27790735,  0.16277625, -0.36605886, -0.00569041],\n",
       "       [-0.20740081,  0.08879606,  0.62610236,  0.6119896 ,  0.13098458,\n",
       "         0.14650775,  0.15096275,  0.16997551,  0.14987959, -0.1372663 ,\n",
       "         0.08532854,  0.16620436, -0.12668685,  0.00121795],\n",
       "       [-0.08191848,  0.46988824, -0.24984122,  0.07199322, -0.16321412,\n",
       "         0.19098521,  0.14461667, -0.32801272,  0.46275771,  0.07211248,\n",
       "        -0.43466618,  0.15672341, -0.2557949 ,  0.12246373],\n",
       "       [-0.25089415, -0.18860015, -0.0935236 ,  0.0465675 ,  0.77833048,\n",
       "        -0.14466563, -0.11200553, -0.43257916,  0.0915882 , -0.0462696 ,\n",
       "        -0.02986657, -0.14419358, -0.08440794,  0.15758395],\n",
       "       [-0.13517139, -0.59841948, -0.10799983,  0.08811224, -0.14483831,\n",
       "         0.14809748,  0.06247252,  0.25868639,  0.46627764,  0.42525454,\n",
       "        -0.01565089, -0.21770365, -0.0665655 ,  0.20033864],\n",
       "       [-0.09269887,  0.3743698 , -0.16708856, -0.26872469,  0.32957951,\n",
       "        -0.03789829, -0.06773223,  0.61111195,  0.42292282, -0.18613617,\n",
       "         0.19204101, -0.0785098 ,  0.0542037 , -0.05938234],\n",
       "       [-0.42154435, -0.08757556,  0.17208034, -0.41324857,  0.14881189,\n",
       "         0.36343884,  0.175405  ,  0.23075135, -0.3437392 ,  0.04069617,\n",
       "        -0.48362564,  0.06865116, -0.11146671, -0.07179553],\n",
       "       [-0.45019071, -0.00602569,  0.26249446, -0.11863342, -0.25253628,\n",
       "        -0.40637354, -0.09091933, -0.15912282,  0.26578679, -0.07526459,\n",
       "        -0.21241681, -0.08426484,  0.54490539, -0.16236882],\n",
       "       [ 0.31127983, -0.32592413, -0.12452347,  0.15716811,  0.12773363,\n",
       "        -0.30772263, -0.14044   ,  0.24054263,  0.10869629, -0.21704255,\n",
       "        -0.50966073,  0.45570504, -0.04620802, -0.19899373]])"
      ]
     },
     "execution_count": 37,
     "metadata": {},
     "output_type": "execute_result"
    }
   ],
   "source": [
    "pca1.components_"
   ]
  },
  {
   "cell_type": "markdown",
   "id": "1b7f0782",
   "metadata": {},
   "source": [
    "# Visualization"
   ]
  },
  {
   "cell_type": "code",
   "execution_count": 38,
   "id": "7c17974e",
   "metadata": {},
   "outputs": [
    {
     "data": {
      "text/html": [
       "<style type=\"text/css\">\n",
       "</style>\n",
       "<table id=\"T_8a940\">\n",
       "  <thead>\n",
       "    <tr>\n",
       "      <th class=\"blank level0\" >&nbsp;</th>\n",
       "      <th id=\"T_8a940_level0_col0\" class=\"col_heading level0 col0\" >alcohol</th>\n",
       "      <th id=\"T_8a940_level0_col1\" class=\"col_heading level0 col1\" >malic_acid</th>\n",
       "      <th id=\"T_8a940_level0_col2\" class=\"col_heading level0 col2\" >ash</th>\n",
       "      <th id=\"T_8a940_level0_col3\" class=\"col_heading level0 col3\" >alcalinity_of_ash</th>\n",
       "      <th id=\"T_8a940_level0_col4\" class=\"col_heading level0 col4\" >magnesium</th>\n",
       "      <th id=\"T_8a940_level0_col5\" class=\"col_heading level0 col5\" >total_phenols</th>\n",
       "      <th id=\"T_8a940_level0_col6\" class=\"col_heading level0 col6\" >flavanoids</th>\n",
       "      <th id=\"T_8a940_level0_col7\" class=\"col_heading level0 col7\" >nonflavanoid_phenols</th>\n",
       "      <th id=\"T_8a940_level0_col8\" class=\"col_heading level0 col8\" >proanthocyanins</th>\n",
       "      <th id=\"T_8a940_level0_col9\" class=\"col_heading level0 col9\" >color_intensity</th>\n",
       "      <th id=\"T_8a940_level0_col10\" class=\"col_heading level0 col10\" >hue</th>\n",
       "      <th id=\"T_8a940_level0_col11\" class=\"col_heading level0 col11\" >od280/od315_of_diluted_wines</th>\n",
       "      <th id=\"T_8a940_level0_col12\" class=\"col_heading level0 col12\" >proline</th>\n",
       "      <th id=\"T_8a940_level0_col13\" class=\"col_heading level0 col13\" >0</th>\n",
       "    </tr>\n",
       "  </thead>\n",
       "  <tbody>\n",
       "    <tr>\n",
       "      <th id=\"T_8a940_level0_row0\" class=\"row_heading level0 row0\" >count</th>\n",
       "      <td id=\"T_8a940_row0_col0\" class=\"data row0 col0\" >178.00000</td>\n",
       "      <td id=\"T_8a940_row0_col1\" class=\"data row0 col1\" >178.00000</td>\n",
       "      <td id=\"T_8a940_row0_col2\" class=\"data row0 col2\" >178.00000</td>\n",
       "      <td id=\"T_8a940_row0_col3\" class=\"data row0 col3\" >178.00000</td>\n",
       "      <td id=\"T_8a940_row0_col4\" class=\"data row0 col4\" >178.00000</td>\n",
       "      <td id=\"T_8a940_row0_col5\" class=\"data row0 col5\" >178.00000</td>\n",
       "      <td id=\"T_8a940_row0_col6\" class=\"data row0 col6\" >178.00000</td>\n",
       "      <td id=\"T_8a940_row0_col7\" class=\"data row0 col7\" >178.00000</td>\n",
       "      <td id=\"T_8a940_row0_col8\" class=\"data row0 col8\" >178.00000</td>\n",
       "      <td id=\"T_8a940_row0_col9\" class=\"data row0 col9\" >178.00000</td>\n",
       "      <td id=\"T_8a940_row0_col10\" class=\"data row0 col10\" >178.00000</td>\n",
       "      <td id=\"T_8a940_row0_col11\" class=\"data row0 col11\" >178.00000</td>\n",
       "      <td id=\"T_8a940_row0_col12\" class=\"data row0 col12\" >178.00000</td>\n",
       "      <td id=\"T_8a940_row0_col13\" class=\"data row0 col13\" >178.00000</td>\n",
       "    </tr>\n",
       "    <tr>\n",
       "      <th id=\"T_8a940_level0_row1\" class=\"row_heading level0 row1\" >mean</th>\n",
       "      <td id=\"T_8a940_row1_col0\" class=\"data row1 col0\" >13.00062</td>\n",
       "      <td id=\"T_8a940_row1_col1\" class=\"data row1 col1\" >2.33635</td>\n",
       "      <td id=\"T_8a940_row1_col2\" class=\"data row1 col2\" >2.36652</td>\n",
       "      <td id=\"T_8a940_row1_col3\" class=\"data row1 col3\" >19.49494</td>\n",
       "      <td id=\"T_8a940_row1_col4\" class=\"data row1 col4\" >99.74157</td>\n",
       "      <td id=\"T_8a940_row1_col5\" class=\"data row1 col5\" >2.29511</td>\n",
       "      <td id=\"T_8a940_row1_col6\" class=\"data row1 col6\" >2.02927</td>\n",
       "      <td id=\"T_8a940_row1_col7\" class=\"data row1 col7\" >0.36185</td>\n",
       "      <td id=\"T_8a940_row1_col8\" class=\"data row1 col8\" >1.59090</td>\n",
       "      <td id=\"T_8a940_row1_col9\" class=\"data row1 col9\" >5.05809</td>\n",
       "      <td id=\"T_8a940_row1_col10\" class=\"data row1 col10\" >0.95745</td>\n",
       "      <td id=\"T_8a940_row1_col11\" class=\"data row1 col11\" >2.61169</td>\n",
       "      <td id=\"T_8a940_row1_col12\" class=\"data row1 col12\" >746.89326</td>\n",
       "      <td id=\"T_8a940_row1_col13\" class=\"data row1 col13\" >0.93820</td>\n",
       "    </tr>\n",
       "    <tr>\n",
       "      <th id=\"T_8a940_level0_row2\" class=\"row_heading level0 row2\" >std</th>\n",
       "      <td id=\"T_8a940_row2_col0\" class=\"data row2 col0\" >0.81183</td>\n",
       "      <td id=\"T_8a940_row2_col1\" class=\"data row2 col1\" >1.11715</td>\n",
       "      <td id=\"T_8a940_row2_col2\" class=\"data row2 col2\" >0.27434</td>\n",
       "      <td id=\"T_8a940_row2_col3\" class=\"data row2 col3\" >3.33956</td>\n",
       "      <td id=\"T_8a940_row2_col4\" class=\"data row2 col4\" >14.28248</td>\n",
       "      <td id=\"T_8a940_row2_col5\" class=\"data row2 col5\" >0.62585</td>\n",
       "      <td id=\"T_8a940_row2_col6\" class=\"data row2 col6\" >0.99886</td>\n",
       "      <td id=\"T_8a940_row2_col7\" class=\"data row2 col7\" >0.12445</td>\n",
       "      <td id=\"T_8a940_row2_col8\" class=\"data row2 col8\" >0.57236</td>\n",
       "      <td id=\"T_8a940_row2_col9\" class=\"data row2 col9\" >2.31829</td>\n",
       "      <td id=\"T_8a940_row2_col10\" class=\"data row2 col10\" >0.22857</td>\n",
       "      <td id=\"T_8a940_row2_col11\" class=\"data row2 col11\" >0.70999</td>\n",
       "      <td id=\"T_8a940_row2_col12\" class=\"data row2 col12\" >314.90747</td>\n",
       "      <td id=\"T_8a940_row2_col13\" class=\"data row2 col13\" >0.77503</td>\n",
       "    </tr>\n",
       "    <tr>\n",
       "      <th id=\"T_8a940_level0_row3\" class=\"row_heading level0 row3\" >min</th>\n",
       "      <td id=\"T_8a940_row3_col0\" class=\"data row3 col0\" >11.03000</td>\n",
       "      <td id=\"T_8a940_row3_col1\" class=\"data row3 col1\" >0.74000</td>\n",
       "      <td id=\"T_8a940_row3_col2\" class=\"data row3 col2\" >1.36000</td>\n",
       "      <td id=\"T_8a940_row3_col3\" class=\"data row3 col3\" >10.60000</td>\n",
       "      <td id=\"T_8a940_row3_col4\" class=\"data row3 col4\" >70.00000</td>\n",
       "      <td id=\"T_8a940_row3_col5\" class=\"data row3 col5\" >0.98000</td>\n",
       "      <td id=\"T_8a940_row3_col6\" class=\"data row3 col6\" >0.34000</td>\n",
       "      <td id=\"T_8a940_row3_col7\" class=\"data row3 col7\" >0.13000</td>\n",
       "      <td id=\"T_8a940_row3_col8\" class=\"data row3 col8\" >0.41000</td>\n",
       "      <td id=\"T_8a940_row3_col9\" class=\"data row3 col9\" >1.28000</td>\n",
       "      <td id=\"T_8a940_row3_col10\" class=\"data row3 col10\" >0.48000</td>\n",
       "      <td id=\"T_8a940_row3_col11\" class=\"data row3 col11\" >1.27000</td>\n",
       "      <td id=\"T_8a940_row3_col12\" class=\"data row3 col12\" >278.00000</td>\n",
       "      <td id=\"T_8a940_row3_col13\" class=\"data row3 col13\" >0.00000</td>\n",
       "    </tr>\n",
       "    <tr>\n",
       "      <th id=\"T_8a940_level0_row4\" class=\"row_heading level0 row4\" >25%</th>\n",
       "      <td id=\"T_8a940_row4_col0\" class=\"data row4 col0\" >12.36250</td>\n",
       "      <td id=\"T_8a940_row4_col1\" class=\"data row4 col1\" >1.60250</td>\n",
       "      <td id=\"T_8a940_row4_col2\" class=\"data row4 col2\" >2.21000</td>\n",
       "      <td id=\"T_8a940_row4_col3\" class=\"data row4 col3\" >17.20000</td>\n",
       "      <td id=\"T_8a940_row4_col4\" class=\"data row4 col4\" >88.00000</td>\n",
       "      <td id=\"T_8a940_row4_col5\" class=\"data row4 col5\" >1.74250</td>\n",
       "      <td id=\"T_8a940_row4_col6\" class=\"data row4 col6\" >1.20500</td>\n",
       "      <td id=\"T_8a940_row4_col7\" class=\"data row4 col7\" >0.27000</td>\n",
       "      <td id=\"T_8a940_row4_col8\" class=\"data row4 col8\" >1.25000</td>\n",
       "      <td id=\"T_8a940_row4_col9\" class=\"data row4 col9\" >3.22000</td>\n",
       "      <td id=\"T_8a940_row4_col10\" class=\"data row4 col10\" >0.78250</td>\n",
       "      <td id=\"T_8a940_row4_col11\" class=\"data row4 col11\" >1.93750</td>\n",
       "      <td id=\"T_8a940_row4_col12\" class=\"data row4 col12\" >500.50000</td>\n",
       "      <td id=\"T_8a940_row4_col13\" class=\"data row4 col13\" >0.00000</td>\n",
       "    </tr>\n",
       "    <tr>\n",
       "      <th id=\"T_8a940_level0_row5\" class=\"row_heading level0 row5\" >50%</th>\n",
       "      <td id=\"T_8a940_row5_col0\" class=\"data row5 col0\" >13.05000</td>\n",
       "      <td id=\"T_8a940_row5_col1\" class=\"data row5 col1\" >1.86500</td>\n",
       "      <td id=\"T_8a940_row5_col2\" class=\"data row5 col2\" >2.36000</td>\n",
       "      <td id=\"T_8a940_row5_col3\" class=\"data row5 col3\" >19.50000</td>\n",
       "      <td id=\"T_8a940_row5_col4\" class=\"data row5 col4\" >98.00000</td>\n",
       "      <td id=\"T_8a940_row5_col5\" class=\"data row5 col5\" >2.35500</td>\n",
       "      <td id=\"T_8a940_row5_col6\" class=\"data row5 col6\" >2.13500</td>\n",
       "      <td id=\"T_8a940_row5_col7\" class=\"data row5 col7\" >0.34000</td>\n",
       "      <td id=\"T_8a940_row5_col8\" class=\"data row5 col8\" >1.55500</td>\n",
       "      <td id=\"T_8a940_row5_col9\" class=\"data row5 col9\" >4.69000</td>\n",
       "      <td id=\"T_8a940_row5_col10\" class=\"data row5 col10\" >0.96500</td>\n",
       "      <td id=\"T_8a940_row5_col11\" class=\"data row5 col11\" >2.78000</td>\n",
       "      <td id=\"T_8a940_row5_col12\" class=\"data row5 col12\" >673.50000</td>\n",
       "      <td id=\"T_8a940_row5_col13\" class=\"data row5 col13\" >1.00000</td>\n",
       "    </tr>\n",
       "    <tr>\n",
       "      <th id=\"T_8a940_level0_row6\" class=\"row_heading level0 row6\" >75%</th>\n",
       "      <td id=\"T_8a940_row6_col0\" class=\"data row6 col0\" >13.67750</td>\n",
       "      <td id=\"T_8a940_row6_col1\" class=\"data row6 col1\" >3.08250</td>\n",
       "      <td id=\"T_8a940_row6_col2\" class=\"data row6 col2\" >2.55750</td>\n",
       "      <td id=\"T_8a940_row6_col3\" class=\"data row6 col3\" >21.50000</td>\n",
       "      <td id=\"T_8a940_row6_col4\" class=\"data row6 col4\" >107.00000</td>\n",
       "      <td id=\"T_8a940_row6_col5\" class=\"data row6 col5\" >2.80000</td>\n",
       "      <td id=\"T_8a940_row6_col6\" class=\"data row6 col6\" >2.87500</td>\n",
       "      <td id=\"T_8a940_row6_col7\" class=\"data row6 col7\" >0.43750</td>\n",
       "      <td id=\"T_8a940_row6_col8\" class=\"data row6 col8\" >1.95000</td>\n",
       "      <td id=\"T_8a940_row6_col9\" class=\"data row6 col9\" >6.20000</td>\n",
       "      <td id=\"T_8a940_row6_col10\" class=\"data row6 col10\" >1.12000</td>\n",
       "      <td id=\"T_8a940_row6_col11\" class=\"data row6 col11\" >3.17000</td>\n",
       "      <td id=\"T_8a940_row6_col12\" class=\"data row6 col12\" >985.00000</td>\n",
       "      <td id=\"T_8a940_row6_col13\" class=\"data row6 col13\" >2.00000</td>\n",
       "    </tr>\n",
       "    <tr>\n",
       "      <th id=\"T_8a940_level0_row7\" class=\"row_heading level0 row7\" >max</th>\n",
       "      <td id=\"T_8a940_row7_col0\" class=\"data row7 col0\" >14.83000</td>\n",
       "      <td id=\"T_8a940_row7_col1\" class=\"data row7 col1\" >5.80000</td>\n",
       "      <td id=\"T_8a940_row7_col2\" class=\"data row7 col2\" >3.23000</td>\n",
       "      <td id=\"T_8a940_row7_col3\" class=\"data row7 col3\" >30.00000</td>\n",
       "      <td id=\"T_8a940_row7_col4\" class=\"data row7 col4\" >162.00000</td>\n",
       "      <td id=\"T_8a940_row7_col5\" class=\"data row7 col5\" >3.88000</td>\n",
       "      <td id=\"T_8a940_row7_col6\" class=\"data row7 col6\" >5.08000</td>\n",
       "      <td id=\"T_8a940_row7_col7\" class=\"data row7 col7\" >0.66000</td>\n",
       "      <td id=\"T_8a940_row7_col8\" class=\"data row7 col8\" >3.58000</td>\n",
       "      <td id=\"T_8a940_row7_col9\" class=\"data row7 col9\" >13.00000</td>\n",
       "      <td id=\"T_8a940_row7_col10\" class=\"data row7 col10\" >1.71000</td>\n",
       "      <td id=\"T_8a940_row7_col11\" class=\"data row7 col11\" >4.00000</td>\n",
       "      <td id=\"T_8a940_row7_col12\" class=\"data row7 col12\" >1680.00000</td>\n",
       "      <td id=\"T_8a940_row7_col13\" class=\"data row7 col13\" >2.00000</td>\n",
       "    </tr>\n",
       "  </tbody>\n",
       "</table>\n"
      ],
      "text/plain": [
       "<pandas.io.formats.style.Styler at 0x299bfc27d60>"
      ]
     },
     "execution_count": 38,
     "metadata": {},
     "output_type": "execute_result"
    }
   ],
   "source": [
    "df.describe().style.format(\"{:.5f}\")"
   ]
  },
  {
   "cell_type": "code",
   "execution_count": 39,
   "id": "20edf64d",
   "metadata": {
    "scrolled": true
   },
   "outputs": [
    {
     "data": {
      "image/png": "[encoded data removed]",
      "text/plain": [
       "<Figure size 480x480 with 2 Axes>"
      ]
     },
     "metadata": {},
     "output_type": "display_data"
    }
   ],
   "source": [
    "import matplotlib.pyplot as plt\n",
    "plt.matshow(df.corr())\n",
    "plt.xticks(range(len(df.columns)),df.columns)\n",
    "plt.yticks(range(len(df.columns)),df.columns)\n",
    "plt.colorbar()\n",
    "plt.show()"
   ]
  },
  {
   "cell_type": "markdown",
   "id": "9e92c634",
   "metadata": {},
   "source": [
    "# Agglomerative Hierarchical Clustering"
   ]
  },
  {
   "cell_type": "code",
   "execution_count": 40,
   "id": "66c45138",
   "metadata": {},
   "outputs": [],
   "source": [
    "import scipy.cluster.hierarchy as sch"
   ]
  },
  {
   "cell_type": "code",
   "execution_count": 41,
   "id": "a72e66f0",
   "metadata": {},
   "outputs": [
    {
     "data": {
      "image/png": "[encoded data removed]",
      "text/plain": [
       "<Figure size 640x480 with 1 Axes>"
      ]
     },
     "metadata": {},
     "output_type": "display_data"
    }
   ],
   "source": [
    "dendrogram=sch.dendrogram(sch.linkage(df,method='ward'))\n",
    "plt.title('Dendrogram')\n",
    "plt.xlabel('Data Points')\n",
    "plt.ylabel('Eucledian Distance')\n",
    "plt.show()"
   ]
  },
  {
   "cell_type": "code",
   "execution_count": 42,
   "id": "0fa3d76c",
   "metadata": {},
   "outputs": [
    {
     "name": "stderr",
     "output_type": "stream",
     "text": [
      "F:\\anaconda3\\lib\\site-packages\\sklearn\\utils\\validation.py:1688: FutureWarning: Feature names only support names that are all strings. Got feature names with dtypes: ['int', 'str']. An error will be raised in 1.2.\n",
      "  warnings.warn(\n"
     ]
    }
   ],
   "source": [
    "from sklearn.cluster import AgglomerativeClustering\n",
    "ahc=AgglomerativeClustering(n_clusters=2,affinity='euclidean',linkage='ward')\n",
    "y_ahc=ahc.fit_predict(df)"
   ]
  },
  {
   "cell_type": "code",
   "execution_count": 43,
   "id": "25131637",
   "metadata": {},
   "outputs": [
    {
     "data": {
      "text/plain": [
       "array([1, 1, 1, 1, 0, 1, 1, 1, 1, 1, 1, 1, 1, 1, 1, 1, 1, 1, 1, 0, 0, 0,\n",
       "       1, 1, 0, 0, 1, 1, 0, 1, 1, 1, 1, 1, 1, 0, 0, 1, 1, 0, 0, 1, 1, 0,\n",
       "       0, 1, 1, 1, 1, 1, 1, 1, 1, 1, 1, 1, 1, 1, 1, 0, 0, 0, 0, 0, 0, 0,\n",
       "       0, 0, 0, 0, 0, 0, 0, 1, 0, 0, 0, 0, 0, 0, 0, 0, 0, 0, 0, 0, 0, 0,\n",
       "       0, 0, 0, 0, 0, 0, 0, 1, 0, 0, 0, 0, 0, 0, 0, 0, 0, 0, 0, 0, 0, 0,\n",
       "       0, 0, 0, 0, 0, 0, 0, 0, 0, 0, 0, 0, 0, 0, 0, 0, 0, 0, 0, 0, 0, 0,\n",
       "       0, 0, 0, 0, 0, 0, 0, 0, 0, 0, 0, 0, 0, 0, 0, 0, 0, 0, 0, 0, 0, 0,\n",
       "       0, 0, 0, 0, 0, 0, 0, 0, 0, 0, 0, 0, 0, 0, 0, 0, 0, 0, 0, 0, 0, 0,\n",
       "       0, 0], dtype=int64)"
      ]
     },
     "execution_count": 43,
     "metadata": {},
     "output_type": "execute_result"
    }
   ],
   "source": [
    "y_ahc"
   ]
  },
  {
   "cell_type": "code",
   "execution_count": 44,
   "id": "6d6293e3",
   "metadata": {},
   "outputs": [],
   "source": [
    "from sklearn.metrics import silhouette_score\n",
    "sil_ahc=silhouette_score(df,y_ahc)"
   ]
  },
  {
   "cell_type": "code",
   "execution_count": 45,
   "id": "8a99d69d",
   "metadata": {},
   "outputs": [
    {
     "data": {
      "text/plain": [
       "0.6587247821404869"
      ]
     },
     "execution_count": 45,
     "metadata": {},
     "output_type": "execute_result"
    }
   ],
   "source": [
    "sil_ahc"
   ]
  },
  {
   "cell_type": "code",
   "execution_count": 46,
   "id": "f66a1036",
   "metadata": {},
   "outputs": [
    {
     "name": "stderr",
     "output_type": "stream",
     "text": [
      "F:\\anaconda3\\lib\\site-packages\\sklearn\\utils\\validation.py:1688: FutureWarning: Feature names only support names that are all strings. Got feature names with dtypes: ['int', 'str']. An error will be raised in 1.2.\n",
      "  warnings.warn(\n"
     ]
    },
    {
     "data": {
      "text/plain": [
       "0.6587247821404869"
      ]
     },
     "execution_count": 46,
     "metadata": {},
     "output_type": "execute_result"
    }
   ],
   "source": [
    "ahc1=AgglomerativeClustering(n_clusters=3,affinity='euclidean',linkage='ward')\n",
    "y_ahc1=ahc1.fit_predict(df)\n",
    "sil_ahc1=silhouette_score(df,y_ahc)\n",
    "sil_ahc1"
   ]
  },
  {
   "cell_type": "code",
   "execution_count": 47,
   "id": "d084a943",
   "metadata": {},
   "outputs": [
    {
     "name": "stderr",
     "output_type": "stream",
     "text": [
      "F:\\anaconda3\\lib\\site-packages\\sklearn\\utils\\validation.py:1688: FutureWarning: Feature names only support names that are all strings. Got feature names with dtypes: ['int', 'str']. An error will be raised in 1.2.\n",
      "  warnings.warn(\n"
     ]
    },
    {
     "data": {
      "text/plain": [
       "0.6587247821404869"
      ]
     },
     "execution_count": 47,
     "metadata": {},
     "output_type": "execute_result"
    }
   ],
   "source": [
    "ahc2=AgglomerativeClustering(n_clusters=2,affinity='euclidean',linkage='ward')\n",
    "y_ahc2=ahc2.fit_predict(df)\n",
    "sil_ahc2=silhouette_score(df,y_ahc)\n",
    "sil_ahc2"
   ]
  },
  {
   "cell_type": "markdown",
   "id": "7f79c710",
   "metadata": {},
   "source": [
    "# DBDCAN Clustering"
   ]
  },
  {
   "cell_type": "code",
   "execution_count": 48,
   "id": "712dc41f",
   "metadata": {},
   "outputs": [],
   "source": [
    "from sklearn.cluster import DBSCAN\n",
    "from sklearn import datasets\n",
    "from sklearn.preprocessing import StandardScaler"
   ]
  },
  {
   "cell_type": "code",
   "execution_count": 49,
   "id": "7925ee97",
   "metadata": {},
   "outputs": [],
   "source": [
    "wine_data=datasets.load_wine()\n",
    "x=wine_data.data\n",
    "data=pd.DataFrame(x)"
   ]
  },
  {
   "cell_type": "code",
   "execution_count": 50,
   "id": "13bc8d62",
   "metadata": {},
   "outputs": [],
   "source": [
    "std_slc=StandardScaler()\n",
    "x_std=std_slc.fit_transform(x)"
   ]
  },
  {
   "cell_type": "code",
   "execution_count": 51,
   "id": "76efd597",
   "metadata": {},
   "outputs": [],
   "source": [
    "clt=DBSCAN()"
   ]
  },
  {
   "cell_type": "code",
   "execution_count": 52,
   "id": "ebf8f09a",
   "metadata": {},
   "outputs": [],
   "source": [
    "model=clt.fit(x_std)"
   ]
  },
  {
   "cell_type": "code",
   "execution_count": 53,
   "id": "ac64cc92",
   "metadata": {},
   "outputs": [],
   "source": [
    "Clusters=pd.DataFrame(model.fit_predict(x_std))"
   ]
  },
  {
   "cell_type": "code",
   "execution_count": 54,
   "id": "5f57f723",
   "metadata": {},
   "outputs": [],
   "source": [
    "data[\"Cluster\"]=Clusters"
   ]
  },
  {
   "cell_type": "code",
   "execution_count": 55,
   "id": "c7494053",
   "metadata": {},
   "outputs": [
    {
     "data": {
      "image/png": "[encoded data removed]",
      "text/plain": [
       "<Figure size 1000x1000 with 2 Axes>"
      ]
     },
     "metadata": {},
     "output_type": "display_data"
    }
   ],
   "source": [
    "fig=plt.figure(figsize=(10,10));\n",
    "ax=fig.add_subplot(111)\n",
    "scatter=ax.scatter(data[0],data[1],c=data[\"Cluster\"],s=50)\n",
    "ax.set_title(\"DBSCAN Clustering\")\n",
    "ax.set_xlabel(\"X0\")\n",
    "ax.set_ylabel(\"X1\")\n",
    "plt.colorbar(scatter)\n",
    "plt.show()"
   ]
  }
 ],
 "metadata": {
  "kernelspec": {
   "display_name": "Python 3 (ipykernel)",
   "language": "python",
   "name": "python3"
  },
  "language_info": {
   "codemirror_mode": {
    "name": "ipython",
    "version": 3
   },
   "file_extension": ".py",
   "mimetype": "text/x-python",
   "name": "python",
   "nbconvert_exporter": "python",
   "pygments_lexer": "ipython3",
   "version": "3.9.13"
  }
 },
 "nbformat": 4,
 "nbformat_minor": 5
}
